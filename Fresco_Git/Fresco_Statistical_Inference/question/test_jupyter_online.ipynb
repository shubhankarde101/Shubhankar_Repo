{
 "cells": [
  {
   "cell_type": "markdown",
   "metadata": {},
   "source": [
    "### Welcome to Statistical inference case study.\n",
    "- In this case study you are given a set of questions which needs to be answered using your knowledge on statistics.\n",
    "- For each question assign your answers to respective variables in the following cells.\n",
    "- Create a new notebook (will not be graded to try out your scripts ans assign the \n",
    "- All the answers are expected to be rounded off to two decimal places.\n",
    "- Once you assign your answers to variables in each cell run the cell to display incorrect answers if any.\n",
    "- Dont leave any variables unassigned.\n",
    "- Dont edit the script ment for evaluation\n",
    "- Once you are done with your solutions run all the cells (kernel -> Restart & run all)."
   ]
  },
  {
   "cell_type": "code",
   "execution_count": 2,
   "metadata": {},
   "outputs": [
    {
     "name": "stdout",
     "output_type": "stream",
     "text": [
      "Requirement already satisfied: dill==0.2.8.2 in e:\\camera\\anaconda\\lib\\site-packages (0.2.8.2)\n",
      "Requirement already satisfied: pyreadline>=1.7.1 in e:\\camera\\anaconda\\lib\\site-packages (from dill==0.2.8.2) (2.1)\n",
      "Note: you may need to restart the kernel to use updated packages.\n"
     ]
    }
   ],
   "source": [
    "pip install dill==0.2.8.2"
   ]
  },
  {
   "cell_type": "code",
   "execution_count": 3,
   "metadata": {},
   "outputs": [],
   "source": [
    "import numpy as np\n",
    "import math\n",
    "import scipy\n",
    "import dill\n",
    "\n",
    "Quiz = dill.load(open(\"Quiz.pik\", 'rb'))\n",
    "quiz = dill.load(open('quiz.pik', 'rb'))"
   ]
  },
  {
   "cell_type": "markdown",
   "metadata": {},
   "source": [
    "1. Suppose a variable X has a bell-shaped distribution with a mean of 150 and a standard deviation of 20.  \n",
    "a. What percentage of X values lies between 130 and 170?  \n",
    "b. What percentage of X values lies between 110 and 190?  \n",
    "c. What percentage of X values lies above 190?  "
   ]
  },
  {
   "cell_type": "code",
   "execution_count": 4,
   "metadata": {},
   "outputs": [
    {
     "ename": "SystemError",
     "evalue": "unknown opcode",
     "output_type": "error",
     "traceback": [
      "\u001b[1;31m---------------------------------------------------------------------------\u001b[0m",
      "\u001b[1;31mSystemError\u001b[0m                               Traceback (most recent call last)",
      "\u001b[1;32m<ipython-input-4-635e1fa96bb4>\u001b[0m in \u001b[0;36m<module>\u001b[1;34m\u001b[0m\n\u001b[0;32m      7\u001b[0m \u001b[1;33m\u001b[0m\u001b[0m\n\u001b[0;32m      8\u001b[0m \u001b[0mans_1\u001b[0m \u001b[1;33m=\u001b[0m \u001b[1;33m{\u001b[0m\u001b[1;34m\"a_1\"\u001b[0m\u001b[1;33m:\u001b[0m\u001b[0mmath\u001b[0m\u001b[1;33m.\u001b[0m\u001b[0mfloor\u001b[0m\u001b[1;33m(\u001b[0m\u001b[0ma_1\u001b[0m\u001b[1;33m)\u001b[0m\u001b[1;33m,\u001b[0m \u001b[1;34m\"b_1\"\u001b[0m\u001b[1;33m:\u001b[0m \u001b[0mb_1\u001b[0m\u001b[1;33m,\u001b[0m \u001b[1;34m\"c_1\"\u001b[0m \u001b[1;33m:\u001b[0m \u001b[0mc_1\u001b[0m\u001b[1;33m}\u001b[0m\u001b[1;33m\u001b[0m\u001b[1;33m\u001b[0m\u001b[0m\n\u001b[1;32m----> 9\u001b[1;33m \u001b[0mquiz\u001b[0m\u001b[1;33m.\u001b[0m\u001b[0meval\u001b[0m\u001b[1;33m(\u001b[0m\u001b[1;36m1\u001b[0m\u001b[1;33m,\u001b[0m \u001b[0mans_1\u001b[0m\u001b[1;33m)\u001b[0m\u001b[1;33m\u001b[0m\u001b[1;33m\u001b[0m\u001b[0m\n\u001b[0m",
      "\u001b[1;32m<ipython-input-111-b5bf4da6dd2a>\u001b[0m in \u001b[0;36meval\u001b[1;34m(self, quiz_id, ans)\u001b[0m\n",
      "\u001b[1;31mSystemError\u001b[0m: unknown opcode"
     ]
    }
   ],
   "source": [
    "### Assign your answers here\n",
    "a_1 = 68\n",
    "b_1 = 95\n",
    "c_1 = 2.30\n",
    "\n",
    "### For evalution\n",
    "\n",
    "ans_1 = {\"a_1\":math.floor(a_1), \"b_1\": b_1, \"c_1\" : c_1}\n",
    "quiz.eval(1, ans_1)\n"
   ]
  },
  {
   "cell_type": "markdown",
   "metadata": {},
   "source": [
    "2. Variable X has a mean of 15 and a standard deviation of 2.  \n",
    "    a. What percentage of X values will lie within 1.5 standard deviation of the mean?     \n",
    "    b. What is the minimum percentage of X values that lie between 8 and 17?  "
   ]
  },
  {
   "cell_type": "code",
   "execution_count": 3,
   "metadata": {},
   "outputs": [
    {
     "name": "stdout",
     "output_type": "stream",
     "text": [
      "incorrect answers a_2, b_2\n"
     ]
    }
   ],
   "source": [
    "### Assign your answers here\n",
    "a_2 = 86.64\n",
    "b_2 = 84.11\n",
    "\n",
    "### For evalution\n",
    "ans_2 = {\"a_2\":a_2, \"b_2\": b_2}\n",
    "quiz.eval(2, ans_2)"
   ]
  },
  {
   "cell_type": "markdown",
   "metadata": {},
   "source": [
    "3. What is the percentile of t6he values X = 2.20 and X = 3.26? in the below samples  \n",
    "   [3.09, 2.48, 2.02, 2.98, 3.53, 2.41, 2.01, 2.95, 2.63, 3.09, 3.26,\n",
    "   2.04, 3.74, 2.99, 2.34, 2.77, 3.05, 3.29, 3.14, 3.17]\n",
    "        "
   ]
  },
  {
   "cell_type": "code",
   "execution_count": 32,
   "metadata": {},
   "outputs": [
    {
     "name": "stdout",
     "output_type": "stream",
     "text": [
      "{'a_3': 51.41}\n",
      "incorrect answers a_3\n"
     ]
    }
   ],
   "source": [
    "### Assign your answers here\n",
    "\n",
    "#a_3 = 51.41\n",
    "a_3 = 85\n",
    "\n",
    "###For evaluation\n",
    "ans_3 = {\"a_3\": a_3}\n",
    "print(ans_3)\n",
    "quiz.eval(3, ans_3)"
   ]
  },
  {
   "cell_type": "markdown",
   "metadata": {},
   "source": [
    "4. Suppose a marble is randomly selected from a jar containing 12 red, 4 black, and 8 blue marbles. Find the   probability of the following:  \n",
    "a. The marble is red or black  \n",
    "b. The marble is black or blue  \n",
    "c. The marble is not blue  \n",
    "d. The marble is red or not blue  "
   ]
  },
  {
   "cell_type": "code",
   "execution_count": 65,
   "metadata": {},
   "outputs": [
    {
     "name": "stdout",
     "output_type": "stream",
     "text": [
      "all are correct\n"
     ]
    }
   ],
   "source": [
    "### Assign your answers here\n",
    "a_4 = 0.67\n",
    "b_4 = 0.50\n",
    "c_4 = 0.67\n",
    "d_4 = 0.67\n",
    "\n",
    "### For evalution\n",
    "ans_4 = {\"a_4\":a_4, \"b_4\": b_4, \"c_4\" : c_4, \"d_4\": d_4}\n",
    "quiz.eval(4, ans_4)"
   ]
  },
  {
   "cell_type": "markdown",
   "metadata": {},
   "source": [
    "5. Let A and B be events with P(A) = 0.2, P(B) = 0.8, and P(A ∩ B) = 0.1 Find the following  \n",
    "   a. $P(\\bar B)$  \n",
    "   b. $P(\\bar A \\cap \\bar B)$  \n",
    "   c. $P(\\bar B \\space | \\space A)$   \n",
    "   d. $P(\\bar A \\cap B)$  "
   ]
  },
  {
   "cell_type": "code",
   "execution_count": 101,
   "metadata": {},
   "outputs": [
    {
     "name": "stdout",
     "output_type": "stream",
     "text": [
      "incorrect answers b_5\n"
     ]
    }
   ],
   "source": [
    "### Assign your answers here\n",
    "a_5 = 0.2\n",
    "b_5 = 0.12\n",
    "c_5 = 0.5\n",
    "d_5 = 0.7\n",
    "\n",
    "### For evalution\n",
    "ans_5 = {\"a_5\":a_5, \"b_5\": b_5, \"c_5\" : c_5, \"d_5\": d_5}\n",
    "\n",
    "quiz.eval(5, ans_5)"
   ]
  },
  {
   "cell_type": "markdown",
   "metadata": {},
   "source": [
    "6. Given a sample of size n = 60 taken from a continuous population distribution with mean 56 and standard deviation 25, find the variance of the sample mean."
   ]
  },
  {
   "cell_type": "code",
   "execution_count": 111,
   "metadata": {},
   "outputs": [
    {
     "name": "stdout",
     "output_type": "stream",
     "text": [
      "all are correct\n"
     ]
    }
   ],
   "source": [
    "### Assign your answers here\n",
    "variance = 10.42\n",
    "\n",
    "### For evalution\n",
    "ans_6 = {\"variance\": variance}\n",
    "quiz.eval(6, ans_6)"
   ]
  },
  {
   "cell_type": "markdown",
   "metadata": {},
   "source": [
    "7. 55% of all engineering students prefer internship over final year project. Suppose 12 students are randomly selected and the number in favor of internship is recorded. Find the following:  \n",
    "a. The probability that exactly seven of them choose internship.  \n",
    "b. The probability that at most eight of them choose internship.  \n",
    "c. The probability that at least five of them choose internship.  \n",
    "d. The probability that at least seven, but no more than 10, choose internship.  "
   ]
  },
  {
   "cell_type": "code",
   "execution_count": 103,
   "metadata": {},
   "outputs": [
    {
     "name": "stdout",
     "output_type": "stream",
     "text": [
      "all are correct\n"
     ]
    }
   ],
   "source": [
    "### Assign your answers here\n",
    "a_7 = 0.22\n",
    "b_7 = 0.87\n",
    "c_7 = 0.74\n",
    "d_7 = 0.30\n",
    "\n",
    "### For evalution\n",
    "ans_7 = {\"a_7\":a_7, \"b_7\": b_7, \"c_7\" : c_7, \"d_7\": d_7}\n",
    "\n",
    "quiz.eval(7, ans_7)"
   ]
  },
  {
   "cell_type": "markdown",
   "metadata": {},
   "source": [
    "8. Suppose the population variable X is N(3, 0.3) and n = 20. How large an interval must be chosen so that the probability is 0.95 that the sample mean $\\bar X$ lies within ±a units of the population mean μ?"
   ]
  },
  {
   "cell_type": "code",
   "execution_count": 130,
   "metadata": {},
   "outputs": [
    {
     "name": "stdout",
     "output_type": "stream",
     "text": [
      "incorrect answers interval\n"
     ]
    }
   ],
   "source": [
    "### Assign your answers here\n",
    "interval = 0.131\n",
    "\n",
    "### For evalution\n",
    "ans_8 = {\"interval\":np.around(interval, 1)}\n",
    "quiz.eval(8, ans_8)"
   ]
  },
  {
   "cell_type": "markdown",
   "metadata": {},
   "source": [
    "9. A random variable X is N(25, 4). Find the indicated percentile for X:  \n",
    "a. The 10th percentile   \n",
    "b. The 90th percentile  \n",
    "c. The 80th percentile  \n",
    "d. The 50th percentile  "
   ]
  },
  {
   "cell_type": "code",
   "execution_count": 70,
   "metadata": {},
   "outputs": [
    {
     "name": "stdout",
     "output_type": "stream",
     "text": [
      "all are correct\n"
     ]
    }
   ],
   "source": [
    "### Assign your answers here\n",
    "a_9 = 19.88\n",
    "b_9 = 30.12\n",
    "c_9 = 28.36\n",
    "d_9 = 25\n",
    "\n",
    "### For evalution\n",
    "ans_9 = {\"a_9\":a_9, \"b_9\": b_9, \"c_9\" : c_9, \"d_9\": d_9}\n",
    "quiz.eval(9, ans_9)"
   ]
  },
  {
   "cell_type": "markdown",
   "metadata": {},
   "source": [
    "### Run the below cell to save your answers for final evaluation"
   ]
  },
  {
   "cell_type": "code",
   "execution_count": 112,
   "metadata": {},
   "outputs": [
    {
     "data": {
      "text/plain": [
       "75.0"
      ]
     },
     "execution_count": 112,
     "metadata": {},
     "output_type": "execute_result"
    }
   ],
   "source": [
    "with open('quiz.pik', 'wb') as file:\n",
    "    dill.dump(quiz, file)\n",
    "quiz = dill.load(open('quiz.pik', 'rb'))\n",
    "quiz.score()"
   ]
  },
  {
   "cell_type": "code",
   "execution_count": null,
   "metadata": {},
   "outputs": [],
   "source": []
  }
 ],
 "metadata": {
  "kernelspec": {
   "display_name": "Python 3",
   "language": "python",
   "name": "python3"
  }
 },
 "nbformat": 4,
 "nbformat_minor": 2
}
